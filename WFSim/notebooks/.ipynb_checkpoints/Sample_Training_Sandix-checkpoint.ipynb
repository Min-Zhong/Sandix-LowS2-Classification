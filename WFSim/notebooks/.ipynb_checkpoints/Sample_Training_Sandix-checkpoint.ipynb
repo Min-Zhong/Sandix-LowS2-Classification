{
 "cells": [
  {
   "cell_type": "markdown",
   "metadata": {},
   "source": [
    "# Generating Samples and Training"
   ]
  },
  {
   "cell_type": "markdown",
   "metadata": {},
   "source": [
    "### Settings"
   ]
  },
  {
   "cell_type": "code",
   "execution_count": 1,
   "metadata": {},
   "outputs": [
    {
     "name": "stderr",
     "output_type": "stream",
     "text": [
      "/home/zmind/anaconda3/lib/python3.7/site-packages/datashader/transfer_functions.py:21: FutureWarning: xarray subclass Image should explicitly define __slots__\n",
      "  class Image(xr.DataArray):\n"
     ]
    }
   ],
   "source": [
    "import numpy as np\n",
    "import strax\n",
    "import straxen\n",
    "import wfsim\n",
    "\n",
    "import matplotlib.pyplot as plt\n",
    "from matplotlib.colors import LogNorm\n",
    "from multihist import Histdd, Hist1d\n",
    "from scipy import stats\n",
    "import matplotlib.pyplot as plt"
   ]
  },
  {
   "cell_type": "code",
   "execution_count": 2,
   "metadata": {},
   "outputs": [],
   "source": [
    "n_photon_min = 10\n",
    "n_photon_max = 100\n",
    "n_electron_min = 1\n",
    "n_electron_max = 5"
   ]
  },
  {
   "cell_type": "code",
   "execution_count": 3,
   "metadata": {},
   "outputs": [],
   "source": [
    "st = strax.Context(\n",
    "    register=wfsim.RawRecordsFromFax,\n",
    "#     config=dict((detector=\"XENONnT\"))\n",
    "    **straxen.contexts.common_opts)"
   ]
  },
  {
   "cell_type": "code",
   "execution_count": 4,
   "metadata": {},
   "outputs": [],
   "source": [
    "st.set_config(dict(fax_file=None))\n",
    "st.set_config(dict(peak_gap_threshold=100))"
   ]
  },
  {
   "cell_type": "code",
   "execution_count": 5,
   "metadata": {},
   "outputs": [],
   "source": [
    "strax.Mailbox.DEFAULT_TIMEOUT=1000000"
   ]
  },
  {
   "cell_type": "code",
   "execution_count": 6,
   "metadata": {},
   "outputs": [],
   "source": [
    "# file = '/Users/petergaemers/Desktop/python/strax_auxiliary_files/Xenon1T_WholeLXe_Pb212_00008_g4mc_G4.root'\n",
    "# st.set_config(dict(fax_file= file))"
   ]
  },
  {
   "cell_type": "markdown",
   "metadata": {},
   "source": [
    "### Generating S1 Signals"
   ]
  },
  {
   "cell_type": "code",
   "execution_count": 7,
   "metadata": {},
   "outputs": [],
   "source": [
    "# Number of S1s\n",
    "st.set_config(dict(nchunk=1, event_rate = 1, chunk_size = 10000))"
   ]
  },
  {
   "cell_type": "code",
   "execution_count": 8,
   "metadata": {},
   "outputs": [],
   "source": [
    "# Just some id from post-SR1, so the corrections work\n",
    "run_id = '190911_0912'"
   ]
  },
  {
   "cell_type": "code",
   "execution_count": 9,
   "metadata": {},
   "outputs": [],
   "source": [
    "# S1 Sample Generating\n",
    "dtype = wfsim.strax_interface.instruction_dtype\n",
    "\n",
    "def rand_instructions(c):\n",
    "    n = c['nevents'] = c['event_rate'] * c['chunk_size'] * c['nchunk']\n",
    "    c['total_time'] = c['chunk_size'] * c['nchunk']\n",
    "\n",
    "    instructions = np.zeros(1 * n, dtype=dtype)\n",
    "    uniform_times = c['total_time'] * (np.arange(n) + 0.5) / n\n",
    "    instructions['t'] = np.repeat(uniform_times, 1) * int(1e9)\n",
    "    instructions['event_number'] = np.digitize(instructions['t'], \n",
    "         1e9 * np.arange(c['nchunk']) * c['chunk_size']) - 1\n",
    "    instructions['type'] = np.tile(['s1'], n)\n",
    "    instructions['recoil'] = ['er' for i in range(n * 1)]\n",
    "\n",
    "    r = np.sqrt(np.random.uniform(0, 2500, n))\n",
    "    t = np.random.uniform(-np.pi, np.pi, n)\n",
    "    instructions['x'] = np.repeat(r * np.cos(t), 1)\n",
    "    instructions['y'] = np.repeat(r * np.sin(t), 1)\n",
    "    instructions['z'] = np.repeat(np.random.uniform(-100, 0, n), 1)\n",
    "\n",
    "    nphotons = np.random.uniform(n_photon_min, n_photon_max, n)\n",
    "    nelectrons = np.random.uniform(n_electron_min, n_electron_max, n)\n",
    "    instructions['amp'] = np.vstack([nphotons]).T.flatten().astype(int)\n",
    "\n",
    "    return instructions\n",
    "\n",
    "wfsim.strax_interface.rand_instructions = rand_instructions\n",
    "wfsim.strax_interface.instruction_dtype = dtype"
   ]
  },
  {
   "cell_type": "code",
   "execution_count": 10,
   "metadata": {
    "scrolled": true
   },
   "outputs": [],
   "source": [
    "# Remove any previously simulated data, if such exists\n",
    "#!rm -r strax_data\n",
    "\n",
    "records = st.get_array(run_id,'records')\n",
    "peaks = st.get_array(run_id, ['peaks','peak_classification'])\n",
    "truth = st.get_df(run_id, 'truth')\n",
    "#st.waveform_display(run_id)"
   ]
  },
  {
   "cell_type": "code",
   "execution_count": 11,
   "metadata": {},
   "outputs": [
    {
     "data": {
      "image/png": "[encoded data removed]",
      "text/plain": [
       "<Figure size 432x288 with 1 Axes>"
      ]
     },
     "metadata": {},
     "output_type": "display_data"
    }
   ],
   "source": [
    "fig=plt.figure()\n",
    "fig.patch.set_color('white')\n",
    "plt.plot(peaks[peaks['type']==1]['data'][:10].T)\n",
    "plt.xlabel(\"Sample in record\")\n",
    "plt.ylabel(\"Amplitude (PE/sample)\")\n",
    "plt.title(\"Some S1's\")\n",
    "plt.show()"
   ]
  },
  {
   "cell_type": "code",
   "execution_count": 12,
   "metadata": {},
   "outputs": [],
   "source": [
    "# fig=plt.figure()\n",
    "# fig.patch.set_color('white')\n",
    "# plt.plot(peaks[peaks['type']==2]['data'][:2].T)\n",
    "# plt.xlabel(\"Sample in record\")\n",
    "# plt.ylabel(\"Amplitude (PE/sample)\")\n",
    "# plt.title(\"Some S2's\")\n",
    "# plt.show()"
   ]
  },
  {
   "cell_type": "code",
   "execution_count": 13,
   "metadata": {},
   "outputs": [
    {
     "name": "stdout",
     "output_type": "stream",
     "text": [
      "Number of signals classified as S1:  8106\n",
      "Number of signals classified as S2:  0\n",
      "All signals:  9014\n"
     ]
    }
   ],
   "source": [
    "print('Number of signals classified as S1: ', len(peaks[peaks['type']==1]['type']))\n",
    "print('Number of signals classified as S2: ', len(peaks[peaks['type']==2]['type']))\n",
    "print('All signals: ',len(peaks['type']))"
   ]
  },
  {
   "cell_type": "code",
   "execution_count": 14,
   "metadata": {},
   "outputs": [],
   "source": [
    "#peaks.dtype"
   ]
  },
  {
   "cell_type": "code",
   "execution_count": 15,
   "metadata": {},
   "outputs": [
    {
     "data": {
      "text/plain": [
       "9005"
      ]
     },
     "execution_count": 15,
     "metadata": {},
     "output_type": "execute_result"
    }
   ],
   "source": [
    "peaks_true_s1 = peaks[abs(peaks['time']%(5e+8)-5e+8)<600]\n",
    "len(peaks_true_s1)"
   ]
  },
  {
   "cell_type": "code",
   "execution_count": 16,
   "metadata": {},
   "outputs": [],
   "source": [
    "# fig=plt.figure()\n",
    "# fig.patch.set_color('white')\n",
    "# plt.hist(peaks_true_s1['area'],bins=50,range=(0,200),histtype='step')\n",
    "# plt.xlabel('size [PE]')\n",
    "# plt.ylabel('Counts')\n",
    "# plt.title('S1 distribution')\n",
    "# plt.show()"
   ]
  },
  {
   "cell_type": "markdown",
   "metadata": {},
   "source": [
    "### Generating S2 Signals"
   ]
  },
  {
   "cell_type": "code",
   "execution_count": 17,
   "metadata": {},
   "outputs": [],
   "source": [
    "# Number of S2s\n",
    "st.set_config(dict(nchunk=1, event_rate = 1, chunk_size = 10000))"
   ]
  },
  {
   "cell_type": "code",
   "execution_count": 18,
   "metadata": {},
   "outputs": [],
   "source": [
    "# Just some id from post-SR1, so the corrections work\n",
    "run_id = '190912_0913'"
   ]
  },
  {
   "cell_type": "code",
   "execution_count": 19,
   "metadata": {},
   "outputs": [],
   "source": [
    "# S2 Sample Generating\n",
    "dtype = wfsim.strax_interface.instruction_dtype\n",
    "\n",
    "def rand_instructions(c):\n",
    "    n = c['nevents'] = c['event_rate'] * c['chunk_size'] * c['nchunk']\n",
    "    c['total_time'] = c['chunk_size'] * c['nchunk']\n",
    "\n",
    "    instructions = np.zeros(1 * n, dtype=dtype)\n",
    "    uniform_times = c['total_time'] * (np.arange(n) + 0.5) / n\n",
    "    instructions['t'] = np.repeat(uniform_times, 1) * int(1e9)\n",
    "    instructions['event_number'] = np.digitize(instructions['t'], \n",
    "         1e9 * np.arange(c['nchunk']) * c['chunk_size']) - 1\n",
    "    instructions['type'] = np.tile(['s2'], n)\n",
    "    instructions['recoil'] = ['er' for i in range(n * 1)]\n",
    "\n",
    "    r = np.sqrt(np.random.uniform(0, 2500, n))\n",
    "    t = np.random.uniform(-np.pi, np.pi, n)\n",
    "    instructions['x'] = np.repeat(r * np.cos(t), 1)\n",
    "    instructions['y'] = np.repeat(r * np.sin(t), 1)\n",
    "    instructions['z'] = np.repeat(np.random.uniform(-100, 0, n), 1)\n",
    "\n",
    "    nphotons = np.random.uniform(n_photon_min, n_photon_max, n)\n",
    "    nelectrons = np.random.uniform(n_electron_min, n_electron_max, n)\n",
    "    instructions['amp'] = np.vstack([nelectrons]).T.flatten().astype(int)\n",
    "\n",
    "    return instructions\n",
    "\n",
    "wfsim.strax_interface.rand_instructions = rand_instructions\n",
    "wfsim.strax_interface.instruction_dtype = dtype"
   ]
  },
  {
   "cell_type": "code",
   "execution_count": 20,
   "metadata": {},
   "outputs": [],
   "source": [
    "# Remove any previously simulated data, if such exists\n",
    "#!rm -r strax_data\n",
    "\n",
    "records = st.get_array(run_id,'records')\n",
    "peaks = st.get_array(run_id, ['peaks','peak_classification'])\n",
    "truth = st.get_df(run_id, 'truth')\n",
    "#st.waveform_display(run_id)"
   ]
  },
  {
   "cell_type": "code",
   "execution_count": 21,
   "metadata": {},
   "outputs": [],
   "source": [
    "# fig=plt.figure()\n",
    "# fig.patch.set_color('white')\n",
    "# plt.plot(peaks[peaks['type']==1]['data'][:2].T)\n",
    "# plt.xlabel(\"Sample in record\")\n",
    "# plt.ylabel(\"Amplitude (PE/sample)\")\n",
    "# plt.title(\"Some S1's\")\n",
    "# plt.show()"
   ]
  },
  {
   "cell_type": "code",
   "execution_count": 22,
   "metadata": {},
   "outputs": [
    {
     "name": "stdout",
     "output_type": "stream",
     "text": [
      "Number of signals classified as S1:  1980\n",
      "Number of signals classified as S2:  38\n",
      "All signals:  5842\n"
     ]
    }
   ],
   "source": [
    "print('Number of signals classified as S1: ', len(peaks[peaks['type']==1]['type']))\n",
    "print('Number of signals classified as S2: ', len(peaks[peaks['type']==2]['type']))\n",
    "print('All signals: ',len(peaks['type']))"
   ]
  },
  {
   "cell_type": "code",
   "execution_count": 23,
   "metadata": {},
   "outputs": [],
   "source": [
    "#peaks[:1]"
   ]
  },
  {
   "cell_type": "code",
   "execution_count": null,
   "metadata": {},
   "outputs": [],
   "source": [
    "# Calculate the Peak_classification Correct Rate\n",
    "dtype_temp = peaks.dtype\n",
    "peaks_true_s2 = np.zeros(0, dtype=dtype_temp)\n",
    "peaks_afterpulse = np.zeros(0, dtype=dtype_temp)\n",
    "truth_s2_time = truth[['t_first_photon']].values\n",
    "for ipeak in peaks:\n",
    "    for time in truth_s2_time:\n",
    "        peaks_temp = np.zeros(0, dtype=dtype_temp)\n",
    "        if ((time[0]-ipeak['time'] > 0) & (time[0]-ipeak['time'] < 600)):\n",
    "            peaks_true_s2 = np.append(peaks_true_s2, ipeak)    \n",
    "        elif ((time[0]-ipeak['time'] > -750000) & (time[0]-ipeak['time'] < 0)):\n",
    "            peaks_afterpulse = np.append(peaks_afterpulse, ipeak)\n",
    "            \n",
    "peaks_classified_s1 = peaks[peaks['type']==1].copy()\n",
    "peaks_classified_s2 = peaks[peaks['type']==2].copy() \n",
    "\n",
    "peaks_classified_true_s2 = np.zeros(0, dtype=dtype_temp)\n",
    "truth_s2_time = truth[['t_first_photon']].values\n",
    "for ipeak in peaks_classified_s2:\n",
    "    for time in truth_s2_time:\n",
    "        if ((time[0]-ipeak['time'] > 0) & (time[0]-ipeak['time'] < 600)):\n",
    "            peaks_classified_true_s2 = np.append(peaks_classified_true_s2, ipeak)\n",
    "\n",
    "print('Number of true s2 signals (can be found based on truth time info): ', len(peaks_true_s2))\n",
    "print('Number of after pulses: ', len(peaks_afterpulse))\n",
    "print('Number of signals judged as S1: ', len(peaks_classified_s1))\n",
    "print('Number of signals judged as S2: ', len(peaks_classified_s2))\n",
    "print('Among them, number of true S2: ', len(peaks_classified_true_s2))"
   ]
  },
  {
   "cell_type": "code",
   "execution_count": null,
   "metadata": {},
   "outputs": [],
   "source": [
    "fig=plt.figure()\n",
    "fig.patch.set_color('white')\n",
    "plt.plot(peaks_true_s2['data'][:6].T)\n",
    "plt.xlabel(\"Sample in record\")\n",
    "plt.ylabel(\"Amplitude (PE/sample)\")\n",
    "plt.title(\"Some S2's\")\n",
    "plt.show()"
   ]
  },
  {
   "cell_type": "code",
   "execution_count": null,
   "metadata": {},
   "outputs": [],
   "source": [
    "#truth['t_first_photon']"
   ]
  },
  {
   "cell_type": "markdown",
   "metadata": {},
   "source": [
    "### S1 and S2 Comparison"
   ]
  },
  {
   "cell_type": "code",
   "execution_count": null,
   "metadata": {
    "scrolled": true
   },
   "outputs": [],
   "source": [
    "fig=plt.figure(figsize=(8,5.5))\n",
    "fig.patch.set_color('white')\n",
    "plt.hist(peaks_true_s1['area'],bins=100,range=(0,50),color='goldenrod',histtype='step',label='True S1')\n",
    "plt.hist(peaks_true_s2['area'],bins=100,range=(0,50),color='r',histtype='step',label='True S2')\n",
    "plt.hist(peaks_classified_s2['area'],bins=100,range=(0,50),color='b',histtype='step',label='Classified as S2')\n",
    "plt.hist(peaks_classified_true_s2['area'],bins=100,range=(0,50),color='g',histtype='step',label='Correctly Classified S2')\n",
    "plt.legend(loc='best')\n",
    "plt.xlabel('size [PE]')\n",
    "plt.ylabel('Counts')\n",
    "plt.title('Signal Size Distribution')\n",
    "plt.show()"
   ]
  },
  {
   "cell_type": "code",
   "execution_count": null,
   "metadata": {},
   "outputs": [],
   "source": [
    "fig=plt.figure(figsize=(8,5.5))\n",
    "fig.patch.set_color('white')\n",
    "plt.hist(peaks_true_s1['width'][:,5],bins=100,range=(0,400),color='goldenrod',histtype='step',label='True S1')\n",
    "plt.hist(peaks_true_s2['width'][:,5],bins=100,range=(0,400),color='r',histtype='step',label='True S2')\n",
    "plt.hist(peaks_classified_s2['width'][:,5],bins=100,range=(0,400),color='b',histtype='step',label='Classified as S2')\n",
    "plt.hist(peaks_classified_true_s2['width'][:,5],bins=100,range=(0,400),color='g',histtype='step',label='Correctly Classified S2')\n",
    "plt.legend(loc='best')\n",
    "plt.xlabel('widht [ns]')\n",
    "plt.ylabel('Counts')\n",
    "plt.title('50% Width Distribution')\n",
    "plt.show()"
   ]
  },
  {
   "cell_type": "code",
   "execution_count": null,
   "metadata": {},
   "outputs": [],
   "source": [
    "fig=plt.figure(figsize=(8,5.5))\n",
    "fig.patch.set_color('white')\n",
    "plt.hist(peaks_true_s1['width'][:,9],bins=100,range=(0,800),color='goldenrod',histtype='step',label='True S1')\n",
    "plt.hist(peaks_true_s2['width'][:,9],bins=100,range=(0,800),color='r',histtype='step',label='True S2')\n",
    "plt.hist(peaks_classified_s2['width'][:,9],bins=100,range=(0,800),color='b',histtype='step',label='Classified as S2')\n",
    "plt.hist(peaks_classified_true_s2['width'][:,9],bins=100,range=(0,800),color='g',histtype='step',label='Correctly Classified S2')\n",
    "plt.legend(loc='best')\n",
    "plt.xlabel('width [ns]')\n",
    "plt.ylabel('Counts')\n",
    "plt.title('90% Width Distribution')\n",
    "plt.show()"
   ]
  },
  {
   "cell_type": "code",
   "execution_count": null,
   "metadata": {},
   "outputs": [],
   "source": [
    "fig=plt.figure(figsize=(8,5.5))\n",
    "fig.patch.set_color('white')\n",
    "plt.hist(peaks_true_s1['width'][:,5]/peaks_true_s1['width'][:,9],bins=100,range=(0,1),color='goldenrod',histtype='step',label='True S1')\n",
    "plt.hist(peaks_true_s2['width'][:,5]/peaks_true_s2['width'][:,9],bins=100,range=(0,1),color='r',histtype='step',label='True S2')\n",
    "plt.hist(peaks_classified_s2['width'][:,5]/peaks_classified_s2['width'][:,9],bins=100,range=(0,1),color='b',histtype='step',label='Classified as S2')\n",
    "plt.hist(peaks_classified_true_s2['width'][:,5]/peaks_classified_true_s2['width'][:,9],bins=100,range=(0,1),color='g',histtype='step',label='Correctly Classified S2')\n",
    "plt.legend(loc='best')\n",
    "plt.xlabel('Ratio')\n",
    "plt.ylabel('Counts')\n",
    "plt.title('50% Width / 90% Width')\n",
    "plt.show()"
   ]
  },
  {
   "cell_type": "code",
   "execution_count": null,
   "metadata": {},
   "outputs": [],
   "source": [
    "fig=plt.figure(figsize=(8,5.5))\n",
    "fig.patch.set_color('white')\n",
    "plt.hist(-peaks_true_s1['area_decile_from_midpoint'][:,1],bins=100,range=(0,400),color='goldenrod',histtype='step',label='True S1')\n",
    "plt.hist(-peaks_true_s2['area_decile_from_midpoint'][:,1],bins=100,range=(0,400),color='r',histtype='step',label='True S2')\n",
    "plt.hist(-peaks_classified_s2['area_decile_from_midpoint'][:,1],bins=100,range=(0,400),color='b',histtype='step',label='Classified as S2')\n",
    "plt.hist(-peaks_classified_true_s2['area_decile_from_midpoint'][:,1],bins=100,range=(0,400),color='g',histtype='step',label='Correctly Classified S2')\n",
    "plt.legend(loc='best')\n",
    "plt.xlabel('rise time [ns]')\n",
    "plt.ylabel('Counts')\n",
    "plt.title('Rise Time Distribution')\n",
    "plt.show()"
   ]
  },
  {
   "cell_type": "code",
   "execution_count": null,
   "metadata": {},
   "outputs": [],
   "source": [
    "fig=plt.figure(figsize=(8,5.5))\n",
    "fig.patch.set_color('white')\n",
    "plt.hist(peaks_true_s1['area_decile_from_midpoint'][:,9],bins=100,range=(0,400),color='goldenrod',histtype='step',label='True S1')\n",
    "plt.hist(peaks_true_s2['area_decile_from_midpoint'][:,9],bins=100,range=(0,400),color='r',histtype='step',label='True S2')\n",
    "plt.hist(peaks_classified_s2['area_decile_from_midpoint'][:,9],bins=100,range=(0,400),color='b',histtype='step',label='Classified as S2')\n",
    "plt.hist(peaks_classified_true_s2['area_decile_from_midpoint'][:,9],bins=100,range=(0,400),color='g',histtype='step',label='Correctly Classified S2')\n",
    "plt.legend(loc='best')\n",
    "plt.xlabel('drop time [ns]')\n",
    "plt.ylabel('Counts')\n",
    "plt.title('Drop Time Distribution')\n",
    "plt.show()"
   ]
  },
  {
   "cell_type": "code",
   "execution_count": null,
   "metadata": {},
   "outputs": [],
   "source": [
    "fig=plt.figure(figsize=(8,5.5))\n",
    "fig.patch.set_color('white')\n",
    "plt.hist(-peaks_true_s1['area_decile_from_midpoint'][:,1]/peaks_true_s1['area_decile_from_midpoint'][:,9],bins=100,range=(0,4),color='goldenrod',histtype='step',label='True S1')\n",
    "plt.hist(-peaks_true_s2['area_decile_from_midpoint'][:,1]/peaks_true_s2['area_decile_from_midpoint'][:,9],bins=100,range=(0,4),color='r',histtype='step',label='True S2')\n",
    "plt.hist(-peaks_classified_s2['area_decile_from_midpoint'][:,1]/peaks_classified_s2['area_decile_from_midpoint'][:,9],bins=100,range=(0,4),color='b',histtype='step',label='Classified as S2')\n",
    "plt.hist(-peaks_classified_true_s2['area_decile_from_midpoint'][:,1]/peaks_classified_true_s2['area_decile_from_midpoint'][:,9],bins=100,range=(0,4),color='g',histtype='step',label='Correctly Classified S2')\n",
    "plt.legend(loc='best')\n",
    "plt.xlabel('Ratio')\n",
    "plt.ylabel('Counts')\n",
    "plt.title('Rise Time/Drop Time')\n",
    "plt.show()"
   ]
  },
  {
   "cell_type": "code",
   "execution_count": null,
   "metadata": {},
   "outputs": [],
   "source": [
    "#peaks_true_s2[peaks_true_s2['type']==2]['width'][:1][0][5]"
   ]
  },
  {
   "cell_type": "code",
   "execution_count": null,
   "metadata": {},
   "outputs": [],
   "source": [
    "#peaks_true_s2[peaks_true_s2['type']==2]['area_decile_from_midpoint'][:1]"
   ]
  },
  {
   "cell_type": "markdown",
   "metadata": {},
   "source": [
    "## Training Part"
   ]
  },
  {
   "cell_type": "code",
   "execution_count": null,
   "metadata": {},
   "outputs": [],
   "source": [
    "# Import all the things needed for the BDT training\n",
    "import random\n",
    "import pandas\n",
    "import pandas.core.common as com\n",
    "from pandas.core.index import Index\n",
    "\n",
    "import numpy as np\n",
    "import matplotlib as mpl\n",
    "import matplotlib.pyplot as plt\n",
    "\n",
    "from sklearn import datasets\n",
    "from sklearn.externals import joblib\n",
    "from sklearn.tree import DecisionTreeClassifier\n",
    "from sklearn.ensemble import AdaBoostClassifier\n",
    "from sklearn.metrics import classification_report, roc_auc_score\n",
    "from sklearn.metrics import roc_curve, auc\n",
    "from sklearn.model_selection import  train_test_split"
   ]
  },
  {
   "cell_type": "code",
   "execution_count": null,
   "metadata": {},
   "outputs": [],
   "source": [
    "# Prepare the arraies for training\n",
    "peaks_true_s1_features_list = []\n",
    "peaks_true_s2_features_list = []\n",
    "peaks_afterpulse_features_list = []\n",
    "\n",
    "for i in range(0, len(peaks_true_s1)):\n",
    "    peaks_true_s1_features_list.append([peaks_true_s1['width'][i,5], peaks_true_s1['width'][i,9],\n",
    "                                        peaks_true_s1['width'][i,5]/peaks_true_s1['width'][i,9], \n",
    "                                        -peaks_true_s1['area_decile_from_midpoint'][i,1], peaks_true_s1['area_decile_from_midpoint'][i,9],\n",
    "                                        -peaks_true_s1['area_decile_from_midpoint'][i,1]/peaks_true_s1['area_decile_from_midpoint'][i,9]])\n",
    "\n",
    "for i in range(0, len(peaks_true_s2)):\n",
    "    peaks_true_s2_features_list.append([peaks_true_s2['width'][i,5], peaks_true_s2['width'][i,9],\n",
    "                                        peaks_true_s2['width'][i,5]/peaks_true_s2['width'][i,9],\n",
    "                                        -peaks_true_s2['area_decile_from_midpoint'][i,1], peaks_true_s2['area_decile_from_midpoint'][i,9],\n",
    "                                        -peaks_true_s2['area_decile_from_midpoint'][i,1]/peaks_true_s2['area_decile_from_midpoint'][i,9]])\n",
    "\n",
    "for i in range(0, len(peaks_afterpulse)):\n",
    "    peaks_afterpulse_features_list.append([peaks_afterpulse['width'][i,5], peaks_afterpulse['width'][i,9], \n",
    "                                           peaks_afterpulse['width'][i,5]/peaks_afterpulse['width'][i,9],\n",
    "                                           -peaks_afterpulse['area_decile_from_midpoint'][i,1], peaks_afterpulse['area_decile_from_midpoint'][i,9], \n",
    "                                           -peaks_afterpulse['area_decile_from_midpoint'][i,1]/peaks_afterpulse['area_decile_from_midpoint'][i,9]])\n",
    "    \n",
    "peaks_true_s1_features = np.asarray(peaks_true_s1_features_list)\n",
    "peaks_true_s2_features = np.asarray(peaks_true_s2_features_list)\n",
    "peaks_afterpulse_features = np.asarray(peaks_afterpulse_features_list)"
   ]
  },
  {
   "cell_type": "code",
   "execution_count": null,
   "metadata": {},
   "outputs": [],
   "source": [
    "# Combine the two 2D arrays and add one column\n",
    "X = np.concatenate((peaks_true_s1_features, peaks_true_s2_features))\n",
    "y = np.concatenate((np.ones(peaks_true_s1_features.shape[0]), np.zeros(peaks_true_s2_features.shape[0])))\n",
    "\n",
    "# Randomly spliting the sample to train sample and test sample\n",
    "X_train, X_test, y_train, y_test = train_test_split(X, y, test_size = 0.50, random_state = 1230)\n",
    "\n",
    "# Boosted Decision tree definition\n",
    "dt = DecisionTreeClassifier(max_depth=1, min_samples_leaf=5, min_samples_split=10)\n",
    "bdt = AdaBoostClassifier(dt, algorithm='SAMME', n_estimators=800, learning_rate=0.5)\n",
    "bdt.fit(X_train, y_train)\n",
    "\n",
    "print('Training Finished! ')"
   ]
  },
  {
   "cell_type": "code",
   "execution_count": null,
   "metadata": {},
   "outputs": [],
   "source": [
    "# Reporting the train precision\n",
    "y_predicted = bdt.predict(X_train)\n",
    "print (\"Training Result:\")\n",
    "print (classification_report(y_train, y_predicted, target_names=[\"S2\", \"S1\"]))\n",
    "print (\"Area under ROC curve: %.4f\"%(roc_auc_score(y_train, bdt.decision_function(X_train))))"
   ]
  },
  {
   "cell_type": "code",
   "execution_count": null,
   "metadata": {},
   "outputs": [],
   "source": [
    "# Reporting the test precision\n",
    "y_predicted = bdt.predict(X_test)\n",
    "print (\"Test Result\")\n",
    "print (classification_report(y_test, y_predicted, target_names=[\"S2\", \"S1\"]))\n",
    "print (\"Area under ROC curve: %.4f\"%(roc_auc_score(y_test, bdt.decision_function(X_test))))"
   ]
  },
  {
   "cell_type": "code",
   "execution_count": null,
   "metadata": {},
   "outputs": [],
   "source": [
    "# Train and Test comparison of ROC curve and area under the curve\n",
    "fig = plt.figure(figsize=(8,5.5))\n",
    "fig.patch.set_color('white')\n",
    "decisions1 = bdt.decision_function(X_train)\n",
    "decisions2 = bdt.decision_function(X_test)\n",
    "fpr1, tpr1, thresholds1 = roc_curve(y_train, decisions1)\n",
    "fpr2, tpr2, thresholds2 = roc_curve(y_test, decisions2)\n",
    "roc_auc1 = auc(fpr1, tpr1)\n",
    "roc_auc2 = auc(fpr2, tpr2)\n",
    "plt.plot(fpr1, tpr1, lw=1.2, label='train:ROC (area = %0.3f)'%(roc_auc1), color=\"r\")\n",
    "plt.plot(fpr2, tpr2, lw=1.2, label='test: ROC (area = %0.3f)'%(roc_auc2), color=\"b\")\n",
    "plt.plot([0,1], [0,1], '--', color=(0.6, 0.6, 0.6), label = 'Luck')\n",
    "plt.xlim([-0.05, 1.05])\n",
    "plt.ylim([-0.05, 1.05])\n",
    "plt.xlabel('false positive rate')\n",
    "plt.ylabel('true positive rate')\n",
    "plt.title('Receiver operating characteristic')\n",
    "plt.legend(loc = \"lower right\")\n",
    "plt.grid()\n",
    "plt.show()"
   ]
  },
  {
   "cell_type": "code",
   "execution_count": null,
   "metadata": {},
   "outputs": [],
   "source": [
    "# Train and Test comparison of BDT score\n",
    "def compare_train_test(clf, X_train, y_train, X_test, y_test, bdt_lower_lim, bins=50):\n",
    "    decisions = []\n",
    "    for X,y in ((X_train, y_train), (X_test, y_test)):\n",
    "        d1 = clf.decision_function(X[y>0.5]).ravel()\n",
    "        d2 = clf.decision_function(X[y<0.5]).ravel()\n",
    "        decisions += [d1, d2]\n",
    "\n",
    "    low = min(np.min(d) for d in decisions)\n",
    "    high = max(np.max(d) for d in decisions)\n",
    "    low_high = (low, high+0.05)\n",
    "    \n",
    "    fig = plt.figure()\n",
    "    fig.patch.set_color('white')\n",
    "\n",
    "    plt.hist(decisions[0], color='r', alpha=0.5, range=low_high, bins=bins, histtype='stepfilled', density=True, label='S1 (train)')\n",
    "    plt.hist(decisions[1], color='b', alpha=0.5, range=low_high, bins=bins, histtype='stepfilled', density=True, label='S2 (train)')\n",
    "\n",
    "    hist, bins = np.histogram(decisions[2], bins=bins, range=low_high, density=True)\n",
    "    scale = len(decisions[2])/sum(hist)\n",
    "    err = np.sqrt(hist*scale)/scale\n",
    "\n",
    "    width = (bins[1]-bins[0])\n",
    "    center = (bins[:-1]+bins[1:])/2\n",
    "    plt.errorbar(center, hist, yerr=err, fmt='o', c='r', label='S1 (test)')\n",
    "\n",
    "    hist, bins = np.histogram(decisions[3], bins=bins, range=low_high, density=True)\n",
    "    scale = len(decisions[2])/sum(hist)\n",
    "    err = np.sqrt(hist*scale)/scale\n",
    "\n",
    "    plt.errorbar(center, hist, yerr=err, fmt='o', c='b', label='S2 (test)')\n",
    "\n",
    "    plt.xlabel(\"BDT score\")\n",
    "    plt.ylabel(\"Arbitrary units\")\n",
    "    plt.legend(loc='best')\n",
    "    plt.vlines(bdt_lower_lim,0,25)\n",
    "    plt.grid()\n",
    "    plt.show()\n",
    "    print(low)\n",
    "    return None"
   ]
  },
  {
   "cell_type": "code",
   "execution_count": null,
   "metadata": {},
   "outputs": [],
   "source": [
    "bdt_lower_lim = 0.0\n",
    "compare_train_test(bdt, X_train, y_train, X_test, y_test, bdt_lower_lim)"
   ]
  },
  {
   "cell_type": "code",
   "execution_count": null,
   "metadata": {},
   "outputs": [],
   "source": [
    "BDTscore_afterpulse = bdt.decision_function(peaks_afterpulse_features)\n",
    "fig=plt.figure()\n",
    "fig.patch.set_color('white')\n",
    "plt.hist(BDTscore_afterpulse,bins=100,range=(-2,2),color='r',histtype='step',label='Afterpulses')\n",
    "plt.legend(loc='best')\n",
    "plt.xlabel('BDT score')\n",
    "plt.ylabel('Counts')\n",
    "plt.title('BDT Score Distribution of Afterpulses')\n",
    "plt.show()"
   ]
  },
  {
   "cell_type": "code",
   "execution_count": null,
   "metadata": {},
   "outputs": [],
   "source": [
    "#st.show_config('peaks')"
   ]
  },
  {
   "cell_type": "code",
   "execution_count": null,
   "metadata": {},
   "outputs": [],
   "source": [
    "#joblib.dump(bdt, '../BDT_model_Sandix/BDTmodel.pkl')"
   ]
  },
  {
   "cell_type": "code",
   "execution_count": null,
   "metadata": {},
   "outputs": [],
   "source": [
    "#peaks.dtype"
   ]
  },
  {
   "cell_type": "code",
   "execution_count": null,
   "metadata": {},
   "outputs": [],
   "source": [
    "print(\"[50% Width, 90% Width, 50%/90% Ratio, Rise Time, Drop Time, Rise/Drop Ratio]\")\n",
    "print(bdt.feature_importances_)"
   ]
  },
  {
   "cell_type": "code",
   "execution_count": null,
   "metadata": {},
   "outputs": [],
   "source": []
  }
 ],
 "metadata": {
  "kernelspec": {
   "display_name": "Python 3",
   "language": "python",
   "name": "python3"
  },
  "language_info": {
   "codemirror_mode": {
    "name": "ipython",
    "version": 3
   },
   "file_extension": ".py",
   "mimetype": "text/x-python",
   "name": "python",
   "nbconvert_exporter": "python",
   "pygments_lexer": "ipython3",
   "version": "3.7.3"
  }
 },
 "nbformat": 4,
 "nbformat_minor": 2
}
