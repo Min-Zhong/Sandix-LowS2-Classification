{
 "cells": [
  {
   "cell_type": "code",
   "execution_count": 1,
   "metadata": {},
   "outputs": [
    {
     "name": "stderr",
     "output_type": "stream",
     "text": [
      "/home/zmind/anaconda3/lib/python3.7/site-packages/datashader/transfer_functions.py:21: FutureWarning: xarray subclass Image should explicitly define __slots__\n",
      "  class Image(xr.DataArray):\n"
     ]
    }
   ],
   "source": [
    "# Just import something needed\n",
    "import numpy as np\n",
    "import strax\n",
    "import straxen\n",
    "import wfsim\n",
    "\n",
    "import matplotlib.pyplot as plt\n",
    "from matplotlib.colors import LogNorm\n",
    "from multihist import Histdd, Hist1d\n",
    "from scipy import stats\n",
    "import matplotlib.pyplot as plt"
   ]
  },
  {
   "cell_type": "code",
   "execution_count": 2,
   "metadata": {},
   "outputs": [],
   "source": [
    "# Strax Settings\n",
    "n_photon_min = 50\n",
    "n_photon_max = 350\n",
    "n_electron_min = 1\n",
    "n_electron_max = 5\n",
    "\n",
    "st = strax.Context(\n",
    "     register=wfsim.RawRecordsFromFax,\n",
    "#     config=dict((detector=\"XENONnT\"))\n",
    "    **straxen.contexts.common_opts)\n",
    "\n",
    "strax.Mailbox.DEFAULT_TIMEOUT=10000"
   ]
  },
  {
   "cell_type": "markdown",
   "metadata": {},
   "source": [
    "### Generating S2s"
   ]
  },
  {
   "cell_type": "code",
   "execution_count": 7,
   "metadata": {},
   "outputs": [],
   "source": [
    "st.set_config(dict(fax_file=None))\n",
    "\n",
    "# Generating S2s\n",
    "st.set_config(dict(nchunk=1, event_rate = 1, chunk_size = 6))\n",
    "\n",
    "run_id = '180569_9591'\n",
    "\n",
    "dtype = wfsim.strax_interface.instruction_dtype\n",
    "\n",
    "def rand_instructions(c):\n",
    "    n = c['nevents'] = c['event_rate'] * c['chunk_size'] * c['nchunk']\n",
    "    c['total_time'] = c['chunk_size'] * c['nchunk']\n",
    "\n",
    "    instructions = np.zeros(1 * n, dtype=dtype)\n",
    "    uniform_times = c['total_time'] * (np.arange(n) + 0.5) / n\n",
    "    instructions['t'] = np.repeat(uniform_times, 1) * int(1e9)\n",
    "    instructions['event_number'] = np.digitize(instructions['t'], \n",
    "         1e9 * np.arange(c['nchunk']) * c['chunk_size']) - 1\n",
    "    instructions['type'] = np.tile(['s2'], n)\n",
    "    instructions['recoil'] = ['er' for i in range(n * 1)]\n",
    "\n",
    "    r = np.sqrt(np.random.uniform(0, 2500, n))\n",
    "    t = np.random.uniform(-np.pi, np.pi, n)\n",
    "    instructions['x'] = np.repeat(r * np.cos(t), 1)\n",
    "    instructions['y'] = np.repeat(r * np.sin(t), 1)\n",
    "    instructions['z'] = np.repeat(np.random.uniform(-100, 0, n), 1)\n",
    "\n",
    "    nphotons = np.random.uniform(n_photon_min, n_photon_max, n)\n",
    "    nelectrons = np.random.uniform(n_electron_min, n_electron_max, n)\n",
    "    instructions['amp'] = np.vstack([nelectrons]).T.flatten().astype(int)\n",
    "\n",
    "    return instructions\n",
    "\n",
    "wfsim.strax_interface.rand_instructions = rand_instructions\n",
    "wfsim.strax_interface.instruction_dtype = dtype"
   ]
  },
  {
   "cell_type": "code",
   "execution_count": 8,
   "metadata": {},
   "outputs": [
    {
     "name": "stderr",
     "output_type": "stream",
     "text": [
      "Simulating Raw Records: 100%|██████████| 6/6 [00:01<00:00,  4.24it/s]\n"
     ]
    },
    {
     "name": "stdout",
     "output_type": "stream",
     "text": [
      "Source finished!\n"
     ]
    }
   ],
   "source": [
    "records_s2_g2100 = st.get_array(run_id,'records')\n",
    "peaks_s2_g2100 = st.get_array(run_id, ['peaks','peak_classification'])\n",
    "truth_s2_g2100 = st.get_df(run_id, 'truth')"
   ]
  },
  {
   "cell_type": "code",
   "execution_count": 9,
   "metadata": {
    "scrolled": true
   },
   "outputs": [
    {
     "data": {
      "image/png": "[encoded data removed]",
      "text/plain": [
       "<Figure size 576x396 with 1 Axes>"
      ]
     },
     "metadata": {},
     "output_type": "display_data"
    }
   ],
   "source": [
    "fig=plt.figure(figsize=(8,5.5))\n",
    "fig.patch.set_color('white')\n",
    "plt.hist(peaks_s2_g2100['area'],bins=100,range=(0,200),color='r',histtype='step',label='g2 = 100')\n",
    "plt.legend(loc='best')\n",
    "plt.xlabel('size [PE]')\n",
    "plt.ylabel('Counts')\n",
    "plt.title('Signal Size Distribution')\n",
    "plt.show()"
   ]
  },
  {
   "cell_type": "code",
   "execution_count": 10,
   "metadata": {},
   "outputs": [
    {
     "data": {
      "text/html": [
       "<div>\n",
       "<style scoped>\n",
       "    .dataframe tbody tr th:only-of-type {\n",
       "        vertical-align: middle;\n",
       "    }\n",
       "\n",
       "    .dataframe tbody tr th {\n",
       "        vertical-align: top;\n",
       "    }\n",
       "\n",
       "    .dataframe thead th {\n",
       "        text-align: right;\n",
       "    }\n",
       "</style>\n",
       "<table border=\"1\" class=\"dataframe\">\n",
       "  <thead>\n",
       "    <tr style=\"text-align: right;\">\n",
       "      <th></th>\n",
       "      <th>event_number</th>\n",
       "      <th>type</th>\n",
       "      <th>t</th>\n",
       "      <th>x</th>\n",
       "      <th>y</th>\n",
       "      <th>z</th>\n",
       "      <th>amp</th>\n",
       "      <th>recoil</th>\n",
       "      <th>n_photon</th>\n",
       "      <th>n_electron</th>\n",
       "      <th>t_first_photon</th>\n",
       "      <th>t_last_photon</th>\n",
       "      <th>t_mean_photon</th>\n",
       "      <th>t_sigma_photon</th>\n",
       "      <th>t_first_electron</th>\n",
       "      <th>t_last_electron</th>\n",
       "      <th>t_mean_electron</th>\n",
       "      <th>t_sigma_electron</th>\n",
       "    </tr>\n",
       "  </thead>\n",
       "  <tbody>\n",
       "    <tr>\n",
       "      <th>0</th>\n",
       "      <td>0</td>\n",
       "      <td>s2</td>\n",
       "      <td>500000000</td>\n",
       "      <td>-42.488136</td>\n",
       "      <td>18.876877</td>\n",
       "      <td>-33.260941</td>\n",
       "      <td>2</td>\n",
       "      <td>er</td>\n",
       "      <td>2.0</td>\n",
       "      <td>1.0</td>\n",
       "      <td>5.002523e+08</td>\n",
       "      <td>5.002524e+08</td>\n",
       "      <td>5.002524e+08</td>\n",
       "      <td>81.408913</td>\n",
       "      <td>5.002521e+08</td>\n",
       "      <td>5.002521e+08</td>\n",
       "      <td>5.002521e+08</td>\n",
       "      <td>0.000000</td>\n",
       "    </tr>\n",
       "    <tr>\n",
       "      <th>1</th>\n",
       "      <td>0</td>\n",
       "      <td>s2</td>\n",
       "      <td>1500000000</td>\n",
       "      <td>41.571293</td>\n",
       "      <td>7.592082</td>\n",
       "      <td>-64.105789</td>\n",
       "      <td>2</td>\n",
       "      <td>er</td>\n",
       "      <td>6.0</td>\n",
       "      <td>2.0</td>\n",
       "      <td>1.500482e+09</td>\n",
       "      <td>1.500484e+09</td>\n",
       "      <td>1.500483e+09</td>\n",
       "      <td>491.917792</td>\n",
       "      <td>1.500482e+09</td>\n",
       "      <td>1.500483e+09</td>\n",
       "      <td>1.500483e+09</td>\n",
       "      <td>506.678936</td>\n",
       "    </tr>\n",
       "    <tr>\n",
       "      <th>2</th>\n",
       "      <td>0</td>\n",
       "      <td>s2</td>\n",
       "      <td>2500000000</td>\n",
       "      <td>13.801311</td>\n",
       "      <td>3.161502</td>\n",
       "      <td>-20.928308</td>\n",
       "      <td>1</td>\n",
       "      <td>er</td>\n",
       "      <td>2.0</td>\n",
       "      <td>1.0</td>\n",
       "      <td>2.500160e+09</td>\n",
       "      <td>2.500160e+09</td>\n",
       "      <td>2.500160e+09</td>\n",
       "      <td>49.293397</td>\n",
       "      <td>2.500160e+09</td>\n",
       "      <td>2.500160e+09</td>\n",
       "      <td>2.500160e+09</td>\n",
       "      <td>0.000000</td>\n",
       "    </tr>\n",
       "    <tr>\n",
       "      <th>3</th>\n",
       "      <td>0</td>\n",
       "      <td>s2</td>\n",
       "      <td>3500000000</td>\n",
       "      <td>-31.758104</td>\n",
       "      <td>-27.971670</td>\n",
       "      <td>-77.071136</td>\n",
       "      <td>4</td>\n",
       "      <td>er</td>\n",
       "      <td>12.0</td>\n",
       "      <td>3.0</td>\n",
       "      <td>3.500579e+09</td>\n",
       "      <td>3.500580e+09</td>\n",
       "      <td>3.500579e+09</td>\n",
       "      <td>370.231737</td>\n",
       "      <td>3.500578e+09</td>\n",
       "      <td>3.500579e+09</td>\n",
       "      <td>3.500579e+09</td>\n",
       "      <td>376.566046</td>\n",
       "    </tr>\n",
       "    <tr>\n",
       "      <th>4</th>\n",
       "      <td>0</td>\n",
       "      <td>s2</td>\n",
       "      <td>4500000000</td>\n",
       "      <td>-29.673107</td>\n",
       "      <td>25.736225</td>\n",
       "      <td>-13.428630</td>\n",
       "      <td>1</td>\n",
       "      <td>er</td>\n",
       "      <td>0.0</td>\n",
       "      <td>0.0</td>\n",
       "      <td>NaN</td>\n",
       "      <td>NaN</td>\n",
       "      <td>NaN</td>\n",
       "      <td>NaN</td>\n",
       "      <td>NaN</td>\n",
       "      <td>NaN</td>\n",
       "      <td>NaN</td>\n",
       "      <td>NaN</td>\n",
       "    </tr>\n",
       "  </tbody>\n",
       "</table>\n",
       "</div>"
      ],
      "text/plain": [
       "   event_number type           t          x          y          z  amp recoil  \\\n",
       "0             0   s2   500000000 -42.488136  18.876877 -33.260941    2     er   \n",
       "1             0   s2  1500000000  41.571293   7.592082 -64.105789    2     er   \n",
       "2             0   s2  2500000000  13.801311   3.161502 -20.928308    1     er   \n",
       "3             0   s2  3500000000 -31.758104 -27.971670 -77.071136    4     er   \n",
       "4             0   s2  4500000000 -29.673107  25.736225 -13.428630    1     er   \n",
       "\n",
       "   n_photon  n_electron  t_first_photon  t_last_photon  t_mean_photon  \\\n",
       "0       2.0         1.0    5.002523e+08   5.002524e+08   5.002524e+08   \n",
       "1       6.0         2.0    1.500482e+09   1.500484e+09   1.500483e+09   \n",
       "2       2.0         1.0    2.500160e+09   2.500160e+09   2.500160e+09   \n",
       "3      12.0         3.0    3.500579e+09   3.500580e+09   3.500579e+09   \n",
       "4       0.0         0.0             NaN            NaN            NaN   \n",
       "\n",
       "   t_sigma_photon  t_first_electron  t_last_electron  t_mean_electron  \\\n",
       "0       81.408913      5.002521e+08     5.002521e+08     5.002521e+08   \n",
       "1      491.917792      1.500482e+09     1.500483e+09     1.500483e+09   \n",
       "2       49.293397      2.500160e+09     2.500160e+09     2.500160e+09   \n",
       "3      370.231737      3.500578e+09     3.500579e+09     3.500579e+09   \n",
       "4             NaN               NaN              NaN              NaN   \n",
       "\n",
       "   t_sigma_electron  \n",
       "0          0.000000  \n",
       "1        506.678936  \n",
       "2          0.000000  \n",
       "3        376.566046  \n",
       "4               NaN  "
      ]
     },
     "execution_count": 10,
     "metadata": {},
     "output_type": "execute_result"
    }
   ],
   "source": [
    "truth_s2_g2100.head()"
   ]
  },
  {
   "cell_type": "code",
   "execution_count": null,
   "metadata": {},
   "outputs": [],
   "source": []
  }
 ],
 "metadata": {
  "kernelspec": {
   "display_name": "Python 3",
   "language": "python",
   "name": "python3"
  },
  "language_info": {
   "codemirror_mode": {
    "name": "ipython",
    "version": 3
   },
   "file_extension": ".py",
   "mimetype": "text/x-python",
   "name": "python",
   "nbconvert_exporter": "python",
   "pygments_lexer": "ipython3",
   "version": "3.7.3"
  }
 },
 "nbformat": 4,
 "nbformat_minor": 2
}
